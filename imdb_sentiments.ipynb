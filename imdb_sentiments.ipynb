{
 "cells": [
  {
   "cell_type": "markdown",
   "id": "f9f0cfa8",
   "metadata": {},
   "source": [
    "# Sentiment Classification of IMDB Reviews"
   ]
  },
  {
   "cell_type": "markdown",
   "id": "d1f0ca38",
   "metadata": {},
   "source": [
    "## Dataset"
   ]
  },
  {
   "cell_type": "code",
   "execution_count": 1,
   "id": "25bf9852",
   "metadata": {},
   "outputs": [
    {
     "name": "stdout",
     "output_type": "stream",
     "text": [
      "(<tf.Tensor: shape=(), dtype=string, numpy=b\"This was an absolutely terrible movie. Don't be lured in by Christopher Walken or Michael Ironside. Both are great actors, but this must simply be their worst role in history. Even their great acting could not redeem this movie's ridiculous storyline. This movie is an early nineties US propaganda piece. The most pathetic scenes were those when the Columbian rebels were making their cases for revolutions. Maria Conchita Alonso appeared phony, and her pseudo-love affair with Walken was nothing but a pathetic emotional plug in a movie that was devoid of any real meaning. I am disappointed that there are movies like this, ruining actor's like Christopher Walken's good name. I could barely sit through it.\">, <tf.Tensor: shape=(), dtype=int64, numpy=0>)\n",
      "(<tf.Tensor: shape=(), dtype=string, numpy=b'I have been known to fall asleep during films, but this is usually due to a combination of things including, really tired, being warm and comfortable on the sette and having just eaten a lot. However on this occasion I fell asleep because the film was rubbish. The plot development was constant. Constantly slow and boring. Things seemed to happen, but with no explanation of what was causing them or why. I admit, I may have missed part of the film, but i watched the majority of it and everything just seemed to happen of its own accord without any real concern for anything else. I cant recommend this film at all.'>, <tf.Tensor: shape=(), dtype=int64, numpy=0>)\n"
     ]
    }
   ],
   "source": [
    "import tensorflow_datasets as tfds\n",
    "\n",
    "# IMDB Reviews dataset\n",
    "df = tfds.load(\"imdb_reviews\", as_supervised=True)\n",
    "\n",
    "# first two training example\n",
    "for review in df['train'].take(2):\n",
    "    print(review)"
   ]
  },
  {
   "cell_type": "markdown",
   "id": "94b3bce8",
   "metadata": {},
   "source": [
    "## Train and Test dataset "
   ]
  },
  {
   "cell_type": "code",
   "execution_count": 9,
   "id": "215dbd73",
   "metadata": {},
   "outputs": [
    {
     "name": "stdout",
     "output_type": "stream",
     "text": [
      "the first review:\n",
      " \"This was an absolutely terrible movie. Don't be lured in by Christopher Walken or Michael Ironside. Both are great actors, but this must simply be their worst role in history. Even their great acting could not redeem this movie's ridiculous storyline. This movie is an early nineties US propaganda piece. The most pathetic scenes were those when the Columbian rebels were making their cases for revolutions. Maria Conchita Alonso appeared phony, and her pseudo-love affair with Walken was nothing but a pathetic emotional plug in a movie that was devoid of any real meaning. I am disappointed that there are movies like this, ruining actor's like Christopher Walken's good name. I could barely sit through it.\"\n",
      "label: 0.0\n"
     ]
    }
   ],
   "source": [
    "import numpy as np\n",
    "\n",
    "# review and labels\n",
    "review_tr, label_tr = [], np.array([]) # training sentences and lables\n",
    "review_te, label_te = [], np.array([])\n",
    "\n",
    "for review, label in df['train']:\n",
    "    review_tr.append(review.numpy().decode('utf8'))\n",
    "    label_tr = np.append(label_tr, label.numpy())\n",
    "\n",
    "for review, label in df['test']:\n",
    "    review_te.append(review.numpy().decode('utf8'))\n",
    "    label_te = np.append(label_te, label.numpy())\n",
    "\n",
    "# first review and it's label\n",
    "print(f'the first review:\\n \"{review_tr[0]}\"')\n",
    "print(f\"label: {label_tr[0]}\")"
   ]
  },
  {
   "cell_type": "markdown",
   "id": "a1833973",
   "metadata": {},
   "source": [
    "## Encoding Reviews"
   ]
  },
  {
   "cell_type": "code",
   "execution_count": 11,
   "id": "9c9dad19",
   "metadata": {},
   "outputs": [],
   "source": [
    "# fixing the parameters\n",
    "vsize = 10000 # number of unique words\n",
    "rlen = 120 # maximum words in a review\n",
    "emb_dim = 16 # embeded vector dimension\n",
    "trunc = 'post' # truncating words from last\n",
    "oov = \"\""
   ]
  },
  {
   "cell_type": "code",
   "execution_count": 12,
   "id": "ca39cc5c",
   "metadata": {},
   "outputs": [],
   "source": [
    "# Encoding setup\n",
    "from tensorflow.keras.preprocessing.text import Tokenizer\n",
    "from tensorflow.keras.preprocessing.sequence import pad_sequences\n",
    "\n",
    "# Encoder methods\n",
    "encoder = Tokenizer(num_words=vsize, oov_token=oov)\n",
    "encoder.fit_on_texts(review_tr)\n",
    "word_index = encoder.word_index"
   ]
  },
  {
   "cell_type": "code",
   "execution_count": 15,
   "id": "c228d04f",
   "metadata": {},
   "outputs": [],
   "source": [
    "# Encoded sequence generation\n",
    "\n",
    "# training\n",
    "sequence_tr = encoder.texts_to_sequences(review_tr)\n",
    "padded_tr = pad_sequences(sequence_tr, maxlen=rlen, truncating=trunc)\n",
    "\n",
    "#test\n",
    "sequence_te = encoder.texts_to_sequences(review_te)\n",
    "padded_te = pad_sequences(sequence_te, maxlen=rlen, truncating=trunc)"
   ]
  },
  {
   "cell_type": "markdown",
   "id": "c246cd8e",
   "metadata": {},
   "source": [
    "## Embeding"
   ]
  },
  {
   "cell_type": "code",
   "execution_count": 21,
   "id": "8000b268",
   "metadata": {},
   "outputs": [
    {
     "name": "stdout",
     "output_type": "stream",
     "text": [
      "Model: \"sequential_1\"\n",
      "_________________________________________________________________\n",
      " Layer (type)                Output Shape              Param #   \n",
      "=================================================================\n",
      " embedding_3 (Embedding)     (None, 120, 16)           160000    \n",
      "                                                                 \n",
      " flatten_2 (Flatten)         (None, 1920)              0         \n",
      "                                                                 \n",
      " dense_2 (Dense)             (None, 20)                38420     \n",
      "                                                                 \n",
      " dense_3 (Dense)             (None, 1)                 21        \n",
      "                                                                 \n",
      "=================================================================\n",
      "Total params: 198,441\n",
      "Trainable params: 198,441\n",
      "Non-trainable params: 0\n",
      "_________________________________________________________________\n"
     ]
    }
   ],
   "source": [
    "# Model Building\n",
    "import tensorflow as tf\n",
    "model = tf.keras.Sequential([\n",
    "    tf.keras.layers.Embedding(vsize, emb_dim, input_length=rlen),\n",
    "    tf.keras.layers.Flatten(),\n",
    "    tf.keras.layers.Dense(20, activation='relu'),\n",
    "    tf.keras.layers.Dense(1, activation='sigmoid')\n",
    "])\n",
    "\n",
    "# Parameters training\n",
    "model.compile(loss='binary_crossentropy', optimizer='adam', metrics=['accuracy'])\n",
    "model.summary()"
   ]
  },
  {
   "cell_type": "code",
   "execution_count": 23,
   "id": "701b6a6e",
   "metadata": {},
   "outputs": [
    {
     "name": "stdout",
     "output_type": "stream",
     "text": [
      "Epoch 1/20\n",
      "782/782 [==============================] - 2s 3ms/step - loss: 4.8080e-05 - accuracy: 1.0000 - val_loss: 1.0493 - val_accuracy: 0.8100\n",
      "Epoch 2/20\n",
      "782/782 [==============================] - 2s 3ms/step - loss: 3.0307e-05 - accuracy: 1.0000 - val_loss: 1.0933 - val_accuracy: 0.8087\n",
      "Epoch 3/20\n",
      "782/782 [==============================] - 2s 3ms/step - loss: 2.0104e-05 - accuracy: 1.0000 - val_loss: 1.1337 - val_accuracy: 0.8088\n",
      "Epoch 4/20\n",
      "782/782 [==============================] - 2s 3ms/step - loss: 1.2002e-05 - accuracy: 1.0000 - val_loss: 1.1714 - val_accuracy: 0.8104\n",
      "Epoch 5/20\n",
      "782/782 [==============================] - 2s 3ms/step - loss: 7.7031e-06 - accuracy: 1.0000 - val_loss: 1.2123 - val_accuracy: 0.8100\n",
      "Epoch 6/20\n",
      "782/782 [==============================] - 2s 3ms/step - loss: 5.1764e-06 - accuracy: 1.0000 - val_loss: 1.2523 - val_accuracy: 0.8101\n",
      "Epoch 7/20\n",
      "782/782 [==============================] - 2s 3ms/step - loss: 3.1535e-06 - accuracy: 1.0000 - val_loss: 1.2911 - val_accuracy: 0.8099\n",
      "Epoch 8/20\n",
      "782/782 [==============================] - 2s 3ms/step - loss: 2.0399e-06 - accuracy: 1.0000 - val_loss: 1.3304 - val_accuracy: 0.8100\n",
      "Epoch 9/20\n",
      "782/782 [==============================] - 2s 3ms/step - loss: 1.3441e-06 - accuracy: 1.0000 - val_loss: 1.3693 - val_accuracy: 0.8099\n",
      "Epoch 10/20\n",
      "782/782 [==============================] - 2s 3ms/step - loss: 8.5644e-07 - accuracy: 1.0000 - val_loss: 1.4067 - val_accuracy: 0.8099\n",
      "Epoch 11/20\n",
      "782/782 [==============================] - 2s 3ms/step - loss: 5.6016e-07 - accuracy: 1.0000 - val_loss: 1.4446 - val_accuracy: 0.8098\n",
      "Epoch 12/20\n",
      "782/782 [==============================] - 3s 3ms/step - loss: 3.6953e-07 - accuracy: 1.0000 - val_loss: 1.4823 - val_accuracy: 0.8098\n",
      "Epoch 13/20\n",
      "782/782 [==============================] - 3s 3ms/step - loss: 2.4679e-07 - accuracy: 1.0000 - val_loss: 1.5202 - val_accuracy: 0.8094\n",
      "Epoch 14/20\n",
      "782/782 [==============================] - 3s 3ms/step - loss: 1.6340e-07 - accuracy: 1.0000 - val_loss: 1.5556 - val_accuracy: 0.8097\n",
      "Epoch 15/20\n",
      "782/782 [==============================] - 3s 3ms/step - loss: 1.1040e-07 - accuracy: 1.0000 - val_loss: 1.5893 - val_accuracy: 0.8099\n",
      "Epoch 16/20\n",
      "782/782 [==============================] - 2s 3ms/step - loss: 7.6226e-08 - accuracy: 1.0000 - val_loss: 1.6274 - val_accuracy: 0.8094\n",
      "Epoch 17/20\n",
      "782/782 [==============================] - 3s 3ms/step - loss: 5.2442e-08 - accuracy: 1.0000 - val_loss: 1.6603 - val_accuracy: 0.8098\n",
      "Epoch 18/20\n",
      "782/782 [==============================] - 3s 3ms/step - loss: 3.6848e-08 - accuracy: 1.0000 - val_loss: 1.6927 - val_accuracy: 0.8098\n",
      "Epoch 19/20\n",
      "782/782 [==============================] - 3s 3ms/step - loss: 2.6149e-08 - accuracy: 1.0000 - val_loss: 1.7238 - val_accuracy: 0.8097\n",
      "Epoch 20/20\n",
      "782/782 [==============================] - 2s 3ms/step - loss: 1.8999e-08 - accuracy: 1.0000 - val_loss: 1.7535 - val_accuracy: 0.8094\n"
     ]
    },
    {
     "data": {
      "text/plain": [
       "<keras.callbacks.History at 0x244ba920670>"
      ]
     },
     "execution_count": 23,
     "metadata": {},
     "output_type": "execute_result"
    }
   ],
   "source": [
    "# Model Training\n",
    "nepochs = 20\n",
    "model.fit(padded_tr, label_tr, epochs=nepochs, validation_data=(padded_te, label_te))"
   ]
  },
  {
   "cell_type": "markdown",
   "id": "98b3706e",
   "metadata": {},
   "source": [
    "### Model Test"
   ]
  },
  {
   "cell_type": "code",
   "execution_count": 41,
   "id": "5ce9d5e8",
   "metadata": {},
   "outputs": [],
   "source": [
    "def getSentiment(review):\n",
    "    sen = [review]\n",
    "    seq = encoder.texts_to_sequences([review])\n",
    "    pad = pad_sequences(seq, maxlen = rlen, truncating=trunc)\n",
    "    result = model.predict(pad, verbose=0)\n",
    "    print('Sentiment score between 0 and 1 (closer to 1 - positve sentiment):\\n')\n",
    "    return(result[0][0])"
   ]
  },
  {
   "cell_type": "code",
   "execution_count": 42,
   "id": "1f34e722",
   "metadata": {},
   "outputs": [
    {
     "name": "stdout",
     "output_type": "stream",
     "text": [
      "Sentiment score between 0 and 1 (closer to 1 - positve sentiment):\n",
      "\n"
     ]
    },
    {
     "data": {
      "text/plain": [
       "0.42266902"
      ]
     },
     "execution_count": 42,
     "metadata": {},
     "output_type": "execute_result"
    }
   ],
   "source": [
    "reviews = \"I have not seen ever a worst moview like this. Total waste of money.\"\n",
    "getSentiment(reviews)"
   ]
  },
  {
   "cell_type": "markdown",
   "id": "17aa848a",
   "metadata": {},
   "source": [
    "## File generation to check embedding in Projector"
   ]
  },
  {
   "cell_type": "code",
   "execution_count": 43,
   "id": "5b5cabd9",
   "metadata": {},
   "outputs": [
    {
     "name": "stdout",
     "output_type": "stream",
     "text": [
      "(10000, 16)\n"
     ]
    }
   ],
   "source": [
    "# Embedding weights\n",
    "\n",
    "embedding_layers = model.layers[0]\n",
    "embedding_weights = embedding_layers.get_weights()[0]\n",
    "print(embedding_weights.shape)"
   ]
  },
  {
   "cell_type": "code",
   "execution_count": 45,
   "id": "871f8d39",
   "metadata": {},
   "outputs": [],
   "source": [
    "# reversed dictionary\n",
    "reverse_word_index = encoder.index_word"
   ]
  },
  {
   "cell_type": "code",
   "execution_count": 47,
   "id": "aabb118b",
   "metadata": {},
   "outputs": [
    {
     "name": "stdout",
     "output_type": "stream",
     "text": [
      "files generated\n"
     ]
    }
   ],
   "source": [
    "# generating tensorflow files for visualization of embeddings\n",
    "\n",
    "import io\n",
    "out_v = io.open('v.tsv', 'w', encoding='utf-8') # for vector weights of each word \n",
    "out_w = io.open('w.tsv', 'w', encoding='utf-8') # for words\n",
    "\n",
    "# writing files\n",
    "for i in range(1, vsize):\n",
    "    word = reverse_word_index[i]\n",
    "    out_w.write(word+\"\\n\")\n",
    "    word_weights_vec = embedding_weights[i]\n",
    "    out_v.write('\\t'.join([str(x) for x in word_weights_vec]) + \"\\n\")\n",
    "\n",
    "out_v.close()\n",
    "out_w.close()\n",
    "\n",
    "print('files generated')"
   ]
  }
 ],
 "metadata": {
  "kernelspec": {
   "display_name": "Python 3 (ipykernel)",
   "language": "python",
   "name": "python3"
  },
  "language_info": {
   "codemirror_mode": {
    "name": "ipython",
    "version": 3
   },
   "file_extension": ".py",
   "mimetype": "text/x-python",
   "name": "python",
   "nbconvert_exporter": "python",
   "pygments_lexer": "ipython3",
   "version": "3.8.10"
  }
 },
 "nbformat": 4,
 "nbformat_minor": 5
}
